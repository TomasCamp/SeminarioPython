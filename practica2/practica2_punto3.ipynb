{
 "cells": [
  {
   "cell_type": "markdown",
   "metadata": {},
   "source": [
    "# Primera parte del ejercicio 11\n",
    "- Importo la libreria que necesito.\n",
    "- Abro los dos archivos de nombres y mediante list comprehension voy guardando los elementos en dos listas.\n",
    "- En la segunda lista guardo los elementos que estén en ambos archivos.\n",
    "- Los imprimo con un for y luego cierro el archivo que dejo de usar."
   ]
  },
  {
   "cell_type": "code",
   "execution_count": null,
   "metadata": {},
   "outputs": [],
   "source": [
    "import csv\n",
    "archivo_Nom1 = open('nombres_1.txt','r',encoding=\"utf8\")\n",
    "archivo_Nom2 = open('nombres_2.txt','r',encoding=\"utf8\")\n",
    "nombres = [nom[1] for nom in csv.reader(archivo_Nom1, delimiter = \"'\")]\n",
    "nombres_en_ambos = [nom[1] for nom in csv.reader(archivo_Nom2, delimiter = \"'\") if nom[1] in nombres]\n",
    "\n",
    "print(\"Nombres en ambas listas:\")\n",
    "for nom in nombres_en_ambos:\n",
    "    print(f\"  {nom},\")\n",
    "\n",
    "archivo_Nom2.close()"
   ]
  },
  {
   "cell_type": "markdown",
   "metadata": {},
   "source": [
    "## Segunda parte del ejercicio 11\n",
    "- Abro los dos archivos de notas y mediante list comprehension voy guardando los elementos en dos listas.\n",
    "- Mediante un for recorro la lista de nombres y las listas de notas, mientras imprimo con formato lo que se pide con estilo de tabla.\n",
    "- Por último cierro todos los archivos."
   ]
  },
  {
   "cell_type": "code",
   "execution_count": null,
   "metadata": {},
   "outputs": [],
   "source": [
    "\n",
    "archivo_Ev1 = open('eval1.txt','r',encoding=\"utf8\")\n",
    "archvo_Ev2 = open('eval2.txt','r',encoding=\"utf8\")\n",
    "ev1 = [int(e[0]) for e in csv.reader(archivo_Ev1, delimiter = \",\")]\n",
    "ev2 = [int(e[0]) for e in csv.reader(archvo_Ev2, delimiter = \",\")]\n",
    "\n",
    "print(\"    Nombres          Eval1       Eval2       Total\")\n",
    "for i in range(len(nombres)):\n",
    "    print(f\" {i:>2} {nombres[i]:<17}{ev1[i]:>4}       {ev2[i]:>4}         {ev2[i]+ev1[i]:>4}\")\n",
    "\n",
    "archivo_Nom2.close()\n",
    "archivo_Ev1.close()\n",
    "archvo_Ev2.close()"
   ]
  }
 ],
 "metadata": {
  "interpreter": {
   "hash": "cd1ff4aea85d695512a7b1caa26f71ec6abbb0ba93cfb6b5ce6608ae149df5fb"
  },
  "kernelspec": {
   "display_name": "Python 3.10.3 64-bit",
   "language": "python",
   "name": "python3"
  },
  "language_info": {
   "codemirror_mode": {
    "name": "ipython",
    "version": 3
   },
   "file_extension": ".py",
   "mimetype": "text/x-python",
   "name": "python",
   "nbconvert_exporter": "python",
   "pygments_lexer": "ipython3",
   "version": "3.10.3"
  },
  "orig_nbformat": 4
 },
 "nbformat": 4,
 "nbformat_minor": 2
}
